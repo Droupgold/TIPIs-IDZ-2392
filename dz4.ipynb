{
  "cells": [
    {
      "cell_type": "code",
      "source": [
        "import pandas as pd\n",
        "from sklearn.model_selection import train_test_split\n",
        "\n",
        "df = pd.read_csv('bank-full.csv', sep=';')"
      ],
      "metadata": {
        "id": "obvC_jmnNNCp"
      },
      "execution_count": 55,
      "outputs": []
    },
    {
      "cell_type": "markdown",
      "source": [
        "Выборка необходимых признаков"
      ],
      "metadata": {
        "id": "no2p-VVyNR0g"
      }
    },
    {
      "cell_type": "code",
      "source": [
        "selected_columns = ['age', 'job', 'marital', 'education', 'balance', 'housing',\n",
        "                    'contact', 'day', 'month', 'duration', 'campaign',\n",
        "                    'pdays', 'previous', 'poutcome', 'y']\n",
        "df = df[selected_columns]\n",
        "\n",
        "df.isnull().sum()"
      ],
      "metadata": {
        "id": "qYqN0J7HNUEz",
        "outputId": "aae25bfe-bd92-4e87-e20f-44be3acf460e",
        "colab": {
          "base_uri": "https://localhost:8080/",
          "height": 554
        }
      },
      "execution_count": 56,
      "outputs": [
        {
          "output_type": "execute_result",
          "data": {
            "text/plain": [
              "age          0\n",
              "job          0\n",
              "marital      0\n",
              "education    0\n",
              "balance      0\n",
              "housing      0\n",
              "contact      0\n",
              "day          0\n",
              "month        0\n",
              "duration     0\n",
              "campaign     0\n",
              "pdays        0\n",
              "previous     0\n",
              "poutcome     0\n",
              "y            0\n",
              "dtype: int64"
            ],
            "text/html": [
              "<div>\n",
              "<style scoped>\n",
              "    .dataframe tbody tr th:only-of-type {\n",
              "        vertical-align: middle;\n",
              "    }\n",
              "\n",
              "    .dataframe tbody tr th {\n",
              "        vertical-align: top;\n",
              "    }\n",
              "\n",
              "    .dataframe thead th {\n",
              "        text-align: right;\n",
              "    }\n",
              "</style>\n",
              "<table border=\"1\" class=\"dataframe\">\n",
              "  <thead>\n",
              "    <tr style=\"text-align: right;\">\n",
              "      <th></th>\n",
              "      <th>0</th>\n",
              "    </tr>\n",
              "  </thead>\n",
              "  <tbody>\n",
              "    <tr>\n",
              "      <th>age</th>\n",
              "      <td>0</td>\n",
              "    </tr>\n",
              "    <tr>\n",
              "      <th>job</th>\n",
              "      <td>0</td>\n",
              "    </tr>\n",
              "    <tr>\n",
              "      <th>marital</th>\n",
              "      <td>0</td>\n",
              "    </tr>\n",
              "    <tr>\n",
              "      <th>education</th>\n",
              "      <td>0</td>\n",
              "    </tr>\n",
              "    <tr>\n",
              "      <th>balance</th>\n",
              "      <td>0</td>\n",
              "    </tr>\n",
              "    <tr>\n",
              "      <th>housing</th>\n",
              "      <td>0</td>\n",
              "    </tr>\n",
              "    <tr>\n",
              "      <th>contact</th>\n",
              "      <td>0</td>\n",
              "    </tr>\n",
              "    <tr>\n",
              "      <th>day</th>\n",
              "      <td>0</td>\n",
              "    </tr>\n",
              "    <tr>\n",
              "      <th>month</th>\n",
              "      <td>0</td>\n",
              "    </tr>\n",
              "    <tr>\n",
              "      <th>duration</th>\n",
              "      <td>0</td>\n",
              "    </tr>\n",
              "    <tr>\n",
              "      <th>campaign</th>\n",
              "      <td>0</td>\n",
              "    </tr>\n",
              "    <tr>\n",
              "      <th>pdays</th>\n",
              "      <td>0</td>\n",
              "    </tr>\n",
              "    <tr>\n",
              "      <th>previous</th>\n",
              "      <td>0</td>\n",
              "    </tr>\n",
              "    <tr>\n",
              "      <th>poutcome</th>\n",
              "      <td>0</td>\n",
              "    </tr>\n",
              "    <tr>\n",
              "      <th>y</th>\n",
              "      <td>0</td>\n",
              "    </tr>\n",
              "  </tbody>\n",
              "</table>\n",
              "</div><br><label><b>dtype:</b> int64</label>"
            ]
          },
          "metadata": {},
          "execution_count": 56
        }
      ]
    },
    {
      "cell_type": "code",
      "source": [
        "from sklearn.model_selection import train_test_split\n",
        "\n",
        "X = df.drop('y', axis=1)\n",
        "y = df['y']\n",
        "\n",
        "X_train, X_temp, y_train, y_temp = train_test_split(X, y, test_size=0.4, random_state=1)\n",
        "X_valid, X_test, y_valid, y_test = train_test_split(X_temp, y_temp, test_size=0.5, random_state=1)\n"
      ],
      "metadata": {
        "id": "06hhe2TYNVio"
      },
      "execution_count": 57,
      "outputs": []
    },
    {
      "cell_type": "markdown",
      "source": [
        "Вопрос 1"
      ],
      "metadata": {
        "id": "8Ky2gBxyNcoW"
      }
    },
    {
      "cell_type": "code",
      "source": [
        "from sklearn.metrics import roc_auc_score\n",
        "from sklearn.linear_model import LogisticRegression\n",
        "import numpy as np\n",
        "\n",
        "numerical_features = ['age', 'balance', 'day', 'duration', 'campaign', 'pdays', 'previous']\n",
        "\n",
        "auc_scores = {}\n",
        "\n",
        "for feature in numerical_features:\n",
        "    model = LogisticRegression(solver='liblinear', max_iter=1000, random_state=1)\n",
        "    X_train_feature = X_train[[feature]]\n",
        "    model.fit(X_train_feature, y_train)\n",
        "    y_pred = model.predict_proba(X_train_feature)[:, 1]\n",
        "    auc = roc_auc_score(y_train, y_pred)\n",
        "\n",
        "    if auc < 0.5:\n",
        "        auc_scores[feature] = -auc\n",
        "    else:\n",
        "        auc_scores[feature] = auc\n",
        "\n",
        "print(auc_scores)\n",
        "\n",
        "max_auc_feature = max(auc_scores, key=auc_scores.get)\n",
        "print(f\"Числовая переменная с наивысшим AUC: {max_auc_feature}\")\n"
      ],
      "metadata": {
        "id": "1Id0yr74NdY8",
        "outputId": "c3b3bc6a-5116-4a90-fd0f-29872c0b21cb",
        "colab": {
          "base_uri": "https://localhost:8080/"
        }
      },
      "execution_count": 58,
      "outputs": [
        {
          "output_type": "stream",
          "name": "stdout",
          "text": [
            "{'age': -0.48748941184002925, 'balance': 0.5916931412945473, 'day': 0.5291275984648961, 'duration': 0.8128648066681694, 'campaign': 0.5742447701740003, 'pdays': 0.5897967289320412, 'previous': 0.5986704105715122}\n",
            "Числовая переменная с наивысшим AUC: duration\n"
          ]
        }
      ]
    },
    {
      "cell_type": "markdown",
      "source": [
        "Вопрос 2"
      ],
      "metadata": {
        "id": "uJ1dcnNANh0t"
      }
    },
    {
      "cell_type": "code",
      "source": [
        "from sklearn.feature_extraction import DictVectorizer\n",
        "from sklearn.metrics import roc_auc_score\n",
        "\n",
        "X_train_dict = X_train.to_dict(orient='records')\n",
        "X_valid_dict = X_valid.to_dict(orient='records')\n",
        "\n",
        "vec = DictVectorizer(sparse=False)\n",
        "X_train_encoded = vec.fit_transform(X_train_dict)\n",
        "X_valid_encoded = vec.transform(X_valid_dict)\n",
        "\n",
        "model = LogisticRegression(solver='liblinear', C=1.0, max_iter=1000)\n",
        "model.fit(X_train_encoded, y_train)\n",
        "\n",
        "y_valid_pred = model.predict_proba(X_valid_encoded)[:, 1]\n",
        "auc = roc_auc_score(y_valid, y_valid_pred)\n",
        "\n",
        "print(f\"AUC модели на валидационном наборе: {round(auc, 3)}\")\n"
      ],
      "metadata": {
        "id": "mZWQ1TUlNjuJ",
        "outputId": "6bdbee3e-7639-4e84-9a7f-327a4d766de5",
        "colab": {
          "base_uri": "https://localhost:8080/"
        }
      },
      "execution_count": 59,
      "outputs": [
        {
          "output_type": "stream",
          "name": "stdout",
          "text": [
            "AUC модели на валидационном наборе: 0.9\n"
          ]
        }
      ]
    },
    {
      "cell_type": "markdown",
      "source": [
        "Вопрос 3"
      ],
      "metadata": {
        "id": "gdZE-9WRNoiy"
      }
    },
    {
      "cell_type": "code",
      "source": [
        "import numpy as np\n",
        "import matplotlib.pyplot as plt\n",
        "from sklearn.metrics import precision_score, recall_score\n",
        "\n",
        "precision_values = []\n",
        "recall_values = []\n",
        "\n",
        "thresholds = np.arange(0.0, 1.0, 0.01)\n",
        "\n",
        "y = y.map({'yes': 1, 'no': 0})\n",
        "\n",
        "X_train, X_temp, y_train, y_temp = train_test_split(X, y, test_size=0.4, random_state=1)\n",
        "X_valid, X_test, y_valid, y_test = train_test_split(X_temp, y_temp, test_size=0.5, random_state=1)\n",
        "\n",
        "for threshold in thresholds:\n",
        "    y_pred = (y_valid_pred >= threshold).astype(int)\n",
        "    precision = precision_score(y_valid, y_pred)\n",
        "    recall = recall_score(y_valid, y_pred)\n",
        "\n",
        "    precision_values.append(precision)\n",
        "    recall_values.append(recall)\n",
        "\n",
        "plt.plot(thresholds, precision_values, label='Precision')\n",
        "plt.plot(thresholds, recall_values, label='Recall')\n",
        "plt.xlabel('Threshold')\n",
        "plt.ylabel('Score')\n",
        "plt.title('Precision and Recall vs Threshold')\n",
        "plt.legend()\n",
        "plt.show()\n",
        "\n",
        "for threshold, precision, recall in zip(thresholds, precision_values, recall_values):\n",
        "    if round(precision, 3) == round(recall, 3):\n",
        "        print(f\"Precision и Recall пересекаются при пороге {threshold:.3f}\")\n"
      ],
      "metadata": {
        "id": "e7vz7wirNqgK",
        "outputId": "09f06a93-5e42-43ad-f09a-e147f0a6f1d4",
        "colab": {
          "base_uri": "https://localhost:8080/",
          "height": 472
        }
      },
      "execution_count": 61,
      "outputs": [
        {
          "output_type": "display_data",
          "data": {
            "text/plain": [
              "<Figure size 640x480 with 1 Axes>"
            ],
            "image/png": "[encoded data removed]"
          },
          "metadata": {}
        }
      ]
    },
    {
      "cell_type": "markdown",
      "source": [
        "Вопрос 4"
      ],
      "metadata": {
        "id": "tc3YoTpwOD_s"
      }
    },
    {
      "cell_type": "code",
      "source": [
        "from sklearn.metrics import f1_score\n",
        "\n",
        "f1_values = []\n",
        "\n",
        "for threshold in thresholds:\n",
        "    y_pred = (y_valid_pred >= threshold).astype(int)\n",
        "    f1 = f1_score(y_valid, y_pred)\n",
        "    f1_values.append(f1)\n",
        "\n",
        "plt.plot(thresholds, f1_values, label='F1 Score')\n",
        "plt.xlabel('Threshold')\n",
        "plt.ylabel('F1 Score')\n",
        "plt.title('F1 Score vs Threshold')\n",
        "plt.show()\n",
        "\n",
        "best_threshold = thresholds[np.argmax(f1_values)]\n",
        "print(f\"Порог, при котором F1 достигает максимума: {best_threshold:.2f}\")\n"
      ],
      "metadata": {
        "id": "IQ08wLh_OFRy",
        "outputId": "4010bf73-04fe-4424-f07d-809cb0a71a12",
        "colab": {
          "base_uri": "https://localhost:8080/",
          "height": 489
        }
      },
      "execution_count": 62,
      "outputs": [
        {
          "output_type": "display_data",
          "data": {
            "text/plain": [
              "<Figure size 640x480 with 1 Axes>"
            ],
            "image/png": "[encoded data removed]"
          },
          "metadata": {}
        },
        {
          "output_type": "stream",
          "name": "stdout",
          "text": [
            "Порог, при котором F1 достигает максимума: 0.20\n"
          ]
        }
      ]
    },
    {
      "cell_type": "markdown",
      "source": [
        "Вопрос 5"
      ],
      "metadata": {
        "id": "GgiKdl3cOJW2"
      }
    },
    {
      "cell_type": "code",
      "source": [
        "from sklearn.model_selection import KFold\n",
        "from sklearn.metrics import roc_auc_score\n",
        "\n",
        "kf = KFold(n_splits=5, shuffle=True, random_state=1)\n",
        "auc_scores_kfold = []\n",
        "\n",
        "for train_index, val_index in kf.split(X_train_encoded):\n",
        "    X_train_fold, X_valid_fold = X_train_encoded[train_index], X_train_encoded[val_index]\n",
        "    y_train_fold, y_valid_fold = y_train.iloc[train_index], y_train.iloc[val_index]\n",
        "\n",
        "    model.fit(X_train_fold, y_train_fold)\n",
        "    y_valid_pred_fold = model.predict_proba(X_valid_fold)[:, 1]\n",
        "    auc = roc_auc_score(y_valid_fold, y_valid_pred_fold)\n",
        "    auc_scores_kfold.append(auc)\n",
        "\n",
        "std_error = np.std(auc_scores_kfold)\n",
        "print(f\"Стандартная ошибка оценок на разных фолдах: {round(std_error, 3)}\")\n"
      ],
      "metadata": {
        "id": "t4qIjd--OKed",
        "outputId": "9b992261-9d69-4edb-91c4-be9a2e18f057",
        "colab": {
          "base_uri": "https://localhost:8080/"
        }
      },
      "execution_count": 63,
      "outputs": [
        {
          "output_type": "stream",
          "name": "stdout",
          "text": [
            "Стандартная ошибка оценок на разных фолдах: 0.004\n"
          ]
        }
      ]
    },
    {
      "cell_type": "markdown",
      "source": [
        "Вопрос 6"
      ],
      "metadata": {
        "id": "HPo2LrDXOP7D"
      }
    },
    {
      "cell_type": "code",
      "source": [
        "\n",
        "C_values = [0.000001, 0.001, 1]\n",
        "mean_aucs = []\n",
        "std_aucs = []\n",
        "\n",
        "for C_val in C_values:\n",
        "    auc_scores_for_C = []\n",
        "    for train_index, val_index in kf.split(X_train_encoded):\n",
        "        X_train_fold, X_valid_fold = X_train_encoded[train_index], X_train_encoded[val_index]\n",
        "        y_train_fold, y_valid_fold = y_train.iloc[train_index], y_train.iloc[val_index]\n",
        "\n",
        "        model = LogisticRegression(solver='liblinear', C=C_val, max_iter=1000)\n",
        "        model.fit(X_train_fold, y_train_fold)\n",
        "        y_valid_pred_fold = model.predict_proba(X_valid_fold)[:, 1]\n",
        "        auc = roc_auc_score(y_valid_fold, y_valid_pred_fold)\n",
        "        auc_scores_for_C.append(auc)\n",
        "\n",
        "    mean_auc = np.mean(auc_scores_for_C)\n",
        "    std_auc = np.std(auc_scores_for_C)\n",
        "\n",
        "    mean_aucs.append(mean_auc)\n",
        "    std_aucs.append(std_auc)"
      ],
      "metadata": {
        "id": "ooQmmma4OSPV"
      },
      "execution_count": 64,
      "outputs": []
    }
  ],
  "metadata": {
    "colab": {
      "name": "Добро пожаловать в Colaboratory!",
      "provenance": []
    },
    "kernelspec": {
      "display_name": "Python 3",
      "name": "python3"
    }
  },
  "nbformat": 4,
  "nbformat_minor": 0
}