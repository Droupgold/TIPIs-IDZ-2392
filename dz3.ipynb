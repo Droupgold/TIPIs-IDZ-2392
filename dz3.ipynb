{
  "cells": [
    {
      "cell_type": "code",
      "source": [
        "import pandas as pd\n",
        "import numpy as np\n",
        "import seaborn as sns\n",
        "import matplotlib.pyplot as plt\n",
        "from sklearn.model_selection import train_test_split\n",
        "from sklearn.preprocessing import OneHotEncoder\n",
        "from sklearn.linear_model import LogisticRegression\n",
        "from sklearn.feature_selection import RFE\n",
        "from sklearn.metrics import accuracy_score\n",
        "from sklearn.feature_selection import mutual_info_classif\n",
        "import zipfile\n",
        "import os\n",
        "from sklearn.feature_selection import mutual_info_classif"
      ],
      "metadata": {
        "id": "ZePtXJJtKfBD"
      },
      "execution_count": 37,
      "outputs": []
    },
    {
      "cell_type": "code",
      "source": [
        "url = 'https://archive.ics.uci.edu/static/public/222/bank+marketing.zip'\n",
        "!wget $url -O bank-marketing.zip"
      ],
      "metadata": {
        "id": "H-BrqUnVKf03",
        "outputId": "230cc2cf-59b6-4779-900a-cb3e8b888da8",
        "colab": {
          "base_uri": "https://localhost:8080/"
        }
      },
      "execution_count": 38,
      "outputs": [
        {
          "output_type": "stream",
          "name": "stdout",
          "text": [
            "--2024-12-21 12:21:13--  https://archive.ics.uci.edu/static/public/222/bank+marketing.zip\n",
            "Resolving archive.ics.uci.edu (archive.ics.uci.edu)... 128.195.10.252\n",
            "Connecting to archive.ics.uci.edu (archive.ics.uci.edu)|128.195.10.252|:443... connected.\n",
            "HTTP request sent, awaiting response... 200 OK\n",
            "Length: unspecified\n",
            "Saving to: ‘bank-marketing.zip’\n",
            "\n",
            "bank-marketing.zip      [ <=>                ] 999.85K  --.-KB/s    in 0.1s    \n",
            "\n",
            "2024-12-21 12:21:13 (9.50 MB/s) - ‘bank-marketing.zip’ saved [1023843]\n",
            "\n"
          ]
        }
      ]
    },
    {
      "cell_type": "code",
      "source": [
        "with zipfile.ZipFile('bank-marketing.zip', 'r') as zip_ref:\n",
        "    zip_ref.extractall()"
      ],
      "metadata": {
        "id": "lvEYzZ0cKipA"
      },
      "execution_count": 40,
      "outputs": []
    },
    {
      "cell_type": "code",
      "source": [
        "if 'bank.zip' in os.listdir():\n",
        "    with zipfile.ZipFile('bank.zip', 'r') as zip_ref:\n",
        "        zip_ref.extractall()"
      ],
      "metadata": {
        "id": "K8FXbp7dKorB"
      },
      "execution_count": 41,
      "outputs": []
    },
    {
      "cell_type": "code",
      "source": [
        "df = pd.read_csv('bank-full.csv', sep=';')"
      ],
      "metadata": {
        "id": "ou9SIq8oKtu2"
      },
      "execution_count": 42,
      "outputs": []
    },
    {
      "cell_type": "markdown",
      "source": [
        "Выборка указанных признаков"
      ],
      "metadata": {
        "id": "ZQz9bllQK3v3"
      }
    },
    {
      "cell_type": "code",
      "source": [
        "\n",
        "selected_columns = ['age', 'job', 'marital', 'education', 'balance', 'housing',\n",
        "                    'contact', 'day', 'month', 'duration', 'campaign',\n",
        "                    'pdays', 'previous', 'poutcome', 'y']\n",
        "\n",
        "df = df[selected_columns]\n"
      ],
      "metadata": {
        "id": "FmDNOD94K6Ed"
      },
      "execution_count": 43,
      "outputs": []
    },
    {
      "cell_type": "markdown",
      "source": [
        "Проверка пропусков"
      ],
      "metadata": {
        "id": "d6a3KaEYK-W1"
      }
    },
    {
      "cell_type": "code",
      "source": [
        "\n",
        "df.isnull().sum()\n"
      ],
      "metadata": {
        "id": "ewRX97f9K_v8",
        "outputId": "14771dc4-eda4-44a4-d5b4-ca4a4e96310a",
        "colab": {
          "base_uri": "https://localhost:8080/",
          "height": 554
        }
      },
      "execution_count": 44,
      "outputs": [
        {
          "output_type": "execute_result",
          "data": {
            "text/plain": [
              "age          0\n",
              "job          0\n",
              "marital      0\n",
              "education    0\n",
              "balance      0\n",
              "housing      0\n",
              "contact      0\n",
              "day          0\n",
              "month        0\n",
              "duration     0\n",
              "campaign     0\n",
              "pdays        0\n",
              "previous     0\n",
              "poutcome     0\n",
              "y            0\n",
              "dtype: int64"
            ],
            "text/html": [
              "<div>\n",
              "<style scoped>\n",
              "    .dataframe tbody tr th:only-of-type {\n",
              "        vertical-align: middle;\n",
              "    }\n",
              "\n",
              "    .dataframe tbody tr th {\n",
              "        vertical-align: top;\n",
              "    }\n",
              "\n",
              "    .dataframe thead th {\n",
              "        text-align: right;\n",
              "    }\n",
              "</style>\n",
              "<table border=\"1\" class=\"dataframe\">\n",
              "  <thead>\n",
              "    <tr style=\"text-align: right;\">\n",
              "      <th></th>\n",
              "      <th>0</th>\n",
              "    </tr>\n",
              "  </thead>\n",
              "  <tbody>\n",
              "    <tr>\n",
              "      <th>age</th>\n",
              "      <td>0</td>\n",
              "    </tr>\n",
              "    <tr>\n",
              "      <th>job</th>\n",
              "      <td>0</td>\n",
              "    </tr>\n",
              "    <tr>\n",
              "      <th>marital</th>\n",
              "      <td>0</td>\n",
              "    </tr>\n",
              "    <tr>\n",
              "      <th>education</th>\n",
              "      <td>0</td>\n",
              "    </tr>\n",
              "    <tr>\n",
              "      <th>balance</th>\n",
              "      <td>0</td>\n",
              "    </tr>\n",
              "    <tr>\n",
              "      <th>housing</th>\n",
              "      <td>0</td>\n",
              "    </tr>\n",
              "    <tr>\n",
              "      <th>contact</th>\n",
              "      <td>0</td>\n",
              "    </tr>\n",
              "    <tr>\n",
              "      <th>day</th>\n",
              "      <td>0</td>\n",
              "    </tr>\n",
              "    <tr>\n",
              "      <th>month</th>\n",
              "      <td>0</td>\n",
              "    </tr>\n",
              "    <tr>\n",
              "      <th>duration</th>\n",
              "      <td>0</td>\n",
              "    </tr>\n",
              "    <tr>\n",
              "      <th>campaign</th>\n",
              "      <td>0</td>\n",
              "    </tr>\n",
              "    <tr>\n",
              "      <th>pdays</th>\n",
              "      <td>0</td>\n",
              "    </tr>\n",
              "    <tr>\n",
              "      <th>previous</th>\n",
              "      <td>0</td>\n",
              "    </tr>\n",
              "    <tr>\n",
              "      <th>poutcome</th>\n",
              "      <td>0</td>\n",
              "    </tr>\n",
              "    <tr>\n",
              "      <th>y</th>\n",
              "      <td>0</td>\n",
              "    </tr>\n",
              "  </tbody>\n",
              "</table>\n",
              "</div><br><label><b>dtype:</b> int64</label>"
            ]
          },
          "metadata": {},
          "execution_count": 44
        }
      ]
    },
    {
      "cell_type": "markdown",
      "source": [
        "Вопрос 1: Наиболее частое значение (mode) для столбца education"
      ],
      "metadata": {
        "id": "QTSMW6mxLDNG"
      }
    },
    {
      "cell_type": "code",
      "source": [
        "\n",
        "mode_education = df['education'].mode()[0]\n",
        "print(mode_education)\n"
      ],
      "metadata": {
        "id": "Xq6Ghel4LEDd",
        "outputId": "2e403b3e-0f86-43db-aa90-891ffc92d004",
        "colab": {
          "base_uri": "https://localhost:8080/"
        }
      },
      "execution_count": 45,
      "outputs": [
        {
          "output_type": "stream",
          "name": "stdout",
          "text": [
            "secondary\n"
          ]
        }
      ]
    },
    {
      "cell_type": "markdown",
      "source": [
        "Вопрос 2: Корреляционная матрица для числовых признаков"
      ],
      "metadata": {
        "id": "9cfXiL9vLGd9"
      }
    },
    {
      "cell_type": "code",
      "source": [
        "import seaborn as sns\n",
        "import matplotlib.pyplot as plt\n",
        "\n",
        "numerical_columns = ['age', 'balance', 'day', 'duration', 'campaign', 'pdays', 'previous']\n",
        "correlation_matrix = df[numerical_columns].corr()\n",
        "\n",
        "plt.figure(figsize=(10, 7))\n",
        "sns.heatmap(correlation_matrix, annot=True, cmap='coolwarm', fmt='.2f')\n",
        "plt.show()\n",
        "\n",
        "max_corr = correlation_matrix.unstack().sort_values(ascending=False)\n",
        "max_corr = max_corr[max_corr != 1].head(1)\n",
        "print(max_corr)\n"
      ],
      "metadata": {
        "id": "8n0hL2gxLHtL",
        "outputId": "8ce29b12-9452-4345-a519-1befa2fc8990",
        "colab": {
          "base_uri": "https://localhost:8080/",
          "height": 640
        }
      },
      "execution_count": 46,
      "outputs": [
        {
          "output_type": "display_data",
          "data": {
            "text/plain": [
              "<Figure size 1000x700 with 2 Axes>"
            ],
            "image/png": "[encoded data removed]"
          },
          "metadata": {}
        },
        {
          "output_type": "stream",
          "name": "stdout",
          "text": [
            "previous  pdays    0.45482\n",
            "dtype: float64\n"
          ]
        }
      ]
    },
    {
      "cell_type": "markdown",
      "source": [
        "Вопрос 3"
      ],
      "metadata": {
        "id": "OuRZsmH-LRYm"
      }
    },
    {
      "cell_type": "code",
      "source": [
        "from sklearn.feature_selection import mutual_info_classif\n",
        "from sklearn.model_selection import train_test_split\n",
        "\n",
        "\n",
        "X = df.drop('y', axis=1)\n",
        "y = df['y']\n",
        "\n",
        "X = pd.get_dummies(X)\n",
        "\n",
        "X_train, X_valid, y_train, y_valid = train_test_split(X, y, test_size=0.2, random_state=42)\n",
        "\n",
        "mutual_info = mutual_info_classif(X_train, y_train)\n",
        "mutual_info_series = pd.Series(mutual_info, index=X_train.columns)\n",
        "\n",
        "mutual_info_series = mutual_info_series.round(2)\n",
        "print(mutual_info_series)\n",
        "\n",
        "max_mutual_info_feature = mutual_info_series.idxmax()\n",
        "print(max_mutual_info_feature)\n"
      ],
      "metadata": {
        "id": "qhtOQd-lLSqn",
        "outputId": "24a57ae7-ccb9-49f4-f67a-30f1e547a63c",
        "colab": {
          "base_uri": "https://localhost:8080/"
        }
      },
      "execution_count": 47,
      "outputs": [
        {
          "output_type": "stream",
          "name": "stdout",
          "text": [
            "age                    0.01\n",
            "balance                0.02\n",
            "day                    0.01\n",
            "duration               0.07\n",
            "campaign               0.00\n",
            "pdays                  0.03\n",
            "previous               0.01\n",
            "job_admin.             0.00\n",
            "job_blue-collar        0.00\n",
            "job_entrepreneur       0.00\n",
            "job_housemaid          0.00\n",
            "job_management         0.00\n",
            "job_retired            0.00\n",
            "job_self-employed      0.00\n",
            "job_services           0.00\n",
            "job_student            0.00\n",
            "job_technician         0.00\n",
            "job_unemployed         0.00\n",
            "job_unknown            0.00\n",
            "marital_divorced       0.00\n",
            "marital_married        0.01\n",
            "marital_single         0.00\n",
            "education_primary      0.00\n",
            "education_secondary    0.01\n",
            "education_tertiary     0.00\n",
            "education_unknown      0.00\n",
            "housing_no             0.01\n",
            "housing_yes            0.01\n",
            "contact_cellular       0.02\n",
            "contact_telephone      0.00\n",
            "contact_unknown        0.02\n",
            "month_apr              0.00\n",
            "month_aug              0.00\n",
            "month_dec              0.00\n",
            "month_feb              0.00\n",
            "month_jan              0.00\n",
            "month_jul              0.00\n",
            "month_jun              0.00\n",
            "month_mar              0.00\n",
            "month_may              0.01\n",
            "month_nov              0.00\n",
            "month_oct              0.00\n",
            "month_sep              0.01\n",
            "poutcome_failure       0.00\n",
            "poutcome_other         0.00\n",
            "poutcome_success       0.03\n",
            "poutcome_unknown       0.02\n",
            "dtype: float64\n",
            "duration\n"
          ]
        }
      ]
    },
    {
      "cell_type": "markdown",
      "source": [
        "Вопрос 4"
      ],
      "metadata": {
        "id": "6YbHaDVULaTs"
      }
    },
    {
      "cell_type": "code",
      "source": [
        "from sklearn.linear_model import LogisticRegression\n",
        "from sklearn.metrics import accuracy_score\n",
        "\n",
        "\n",
        "model = LogisticRegression(solver='liblinear', C=1.0, max_iter=1000, random_state=42)\n",
        "\n",
        "model.fit(X_train, y_train)\n",
        "\n",
        "y_pred_valid = model.predict(X_valid)\n",
        "accuracy = accuracy_score(y_valid, y_pred_valid)\n",
        "\n",
        "print(round(accuracy, 2))\n"
      ],
      "metadata": {
        "id": "3M0S1gaLLdC6",
        "outputId": "f8c65db1-e981-407d-c25f-be8dcb9405c2",
        "colab": {
          "base_uri": "https://localhost:8080/"
        }
      },
      "execution_count": 48,
      "outputs": [
        {
          "output_type": "stream",
          "name": "stdout",
          "text": [
            "0.9\n"
          ]
        }
      ]
    },
    {
      "cell_type": "markdown",
      "source": [
        "Вопрос 5"
      ],
      "metadata": {
        "id": "ndD_xUZlLhUG"
      }
    },
    {
      "cell_type": "code",
      "source": [
        "from sklearn.metrics import accuracy_score\n",
        "import numpy as np\n",
        "\n",
        "def get_accuracy(X_train, y_train, X_valid, y_valid, dropped_feature=None):\n",
        "    if dropped_feature:\n",
        "        X_train = X_train.drop(columns=[dropped_feature])\n",
        "        X_valid = X_valid.drop(columns=[dropped_feature])\n",
        "\n",
        "    model = LogisticRegression(solver='liblinear', C=1.0, max_iter=1000, random_state=42)\n",
        "    model.fit(X_train, y_train)\n",
        "    y_pred_valid = model.predict(X_valid)\n",
        "    return accuracy_score(y_valid, y_pred_valid)\n",
        "\n",
        "initial_accuracy = get_accuracy(X_train, y_train, X_valid, y_valid)\n",
        "\n",
        "accuracy_diffs = {}\n",
        "for feature in X_train.columns:\n",
        "    accuracy_without_feature = get_accuracy(X_train, y_train, X_valid, y_valid, dropped_feature=feature)\n",
        "    accuracy_diffs[feature] = initial_accuracy - accuracy_without_feature\n",
        "\n",
        "min_diff_feature = min(accuracy_diffs, key=accuracy_diffs.get)\n",
        "print(min_diff_feature, accuracy_diffs[min_diff_feature])\n"
      ],
      "metadata": {
        "id": "3AN1DHBoLkU2",
        "outputId": "cb917b97-ad2d-4a96-b098-1d1f3b38f9d5",
        "colab": {
          "base_uri": "https://localhost:8080/"
        }
      },
      "execution_count": 49,
      "outputs": [
        {
          "output_type": "stream",
          "name": "stdout",
          "text": [
            "job_entrepreneur -0.0005529138560212976\n"
          ]
        }
      ]
    },
    {
      "cell_type": "markdown",
      "source": [
        "Вопрос 6"
      ],
      "metadata": {
        "id": "EZkAGOSULoc1"
      }
    },
    {
      "cell_type": "code",
      "source": [
        "from sklearn.linear_model import LogisticRegression\n",
        "from sklearn.metrics import accuracy_score\n",
        "\n",
        "C_values = [0.01, 0.1, 1, 10]\n",
        "\n",
        "accuracy_dict = {}\n",
        "\n",
        "for C_val in C_values:\n",
        "    model = LogisticRegression(solver='liblinear', C=C_val, max_iter=1000, random_state=42)\n",
        "    model.fit(X_train, y_train)\n",
        "    y_pred_valid = model.predict(X_valid)\n",
        "    accuracy = accuracy_score(y_valid, y_pred_valid)\n",
        "    accuracy_dict[C_val] = round(accuracy, 3)\n",
        "\n",
        "print(accuracy_dict)\n",
        "\n",
        "best_C = max(accuracy_dict, key=accuracy_dict.get)\n",
        "print(\"Best C value:\", best_C)\n"
      ],
      "metadata": {
        "id": "ZGC1wTPaMKRS",
        "outputId": "04fa7613-b1fd-491b-f535-2af297b04012",
        "colab": {
          "base_uri": "https://localhost:8080/"
        }
      },
      "execution_count": 51,
      "outputs": [
        {
          "output_type": "stream",
          "name": "stdout",
          "text": [
            "{0.01: 0.898, 0.1: 0.899, 1: 0.899, 10: 0.898}\n",
            "Best C value: 0.1\n"
          ]
        }
      ]
    }
  ],
  "metadata": {
    "colab": {
      "name": "Добро пожаловать в Colaboratory!",
      "provenance": []
    },
    "kernelspec": {
      "display_name": "Python 3",
      "name": "python3"
    }
  },
  "nbformat": 4,
  "nbformat_minor": 0
}