{
  "cells": [
    {
      "cell_type": "code",
      "source": [
        "import pandas as pd\n",
        "from sklearn.model_selection import train_test_split\n",
        "from sklearn.feature_extraction import DictVectorizer\n",
        "\n",
        "df = pd.read_csv('jamb_exam_results.csv')\n",
        "\n",
        "df.columns = df.columns.str.lower().str.replace(' ', '_')\n",
        "\n",
        "df = df.drop(columns=['student_id'])\n",
        "\n",
        "df = df.fillna(0)\n",
        "\n",
        "X = df.drop(columns=['jamb_score'])\n",
        "y = df['jamb_score']\n",
        "\n",
        "X_train, X_temp, y_train, y_temp = train_test_split(X, y, test_size=0.4, random_state=1)\n",
        "X_valid, X_test, y_valid, y_test = train_test_split(X_temp, y_temp, test_size=0.5, random_state=1)\n",
        "\n",
        "dv = DictVectorizer(sparse=True)\n",
        "X_train_dict = X_train.to_dict(orient='records')\n",
        "X_valid_dict = X_valid.to_dict(orient='records')\n",
        "X_test_dict = X_test.to_dict(orient='records')\n",
        "\n",
        "X_train_vec = dv.fit_transform(X_train_dict)\n",
        "X_valid_vec = dv.transform(X_valid_dict)\n",
        "X_test_vec = dv.transform(X_test_dict)\n"
      ],
      "metadata": {
        "id": "bDlyXx9SPptj"
      },
      "execution_count": 66,
      "outputs": []
    },
    {
      "cell_type": "markdown",
      "source": [
        "Вопрос 1: Обучение дерева решений с max_depth=1"
      ],
      "metadata": {
        "id": "rNRJ8ynkP0ui"
      }
    },
    {
      "cell_type": "code",
      "source": [
        "from sklearn.tree import DecisionTreeRegressor\n",
        "\n",
        "tree_model = DecisionTreeRegressor(max_depth=1, random_state=1)\n",
        "tree_model.fit(X_train_vec, y_train)\n",
        "\n",
        "best_feature = dv.get_feature_names_out()[tree_model.feature_importances_.argmax()]\n",
        "best_feature\n"
      ],
      "metadata": {
        "id": "ppsLSP-9P1VU",
        "outputId": "e44bcea7-368b-4919-bf7d-b6aec6fe5539",
        "colab": {
          "base_uri": "https://localhost:8080/",
          "height": 35
        }
      },
      "execution_count": 67,
      "outputs": [
        {
          "output_type": "execute_result",
          "data": {
            "text/plain": [
              "'study_hours_per_week'"
            ],
            "application/vnd.google.colaboratory.intrinsic+json": {
              "type": "string"
            }
          },
          "metadata": {},
          "execution_count": 67
        }
      ]
    },
    {
      "cell_type": "markdown",
      "source": [
        "Вопрос 2"
      ],
      "metadata": {
        "id": "h1beL1hdP4XB"
      }
    },
    {
      "cell_type": "code",
      "source": [
        "from sklearn.ensemble import RandomForestRegressor\n",
        "from sklearn.metrics import mean_squared_error\n",
        "import numpy as np\n",
        "\n",
        "rf_model = RandomForestRegressor(n_estimators=10, random_state=1, n_jobs=-1)\n",
        "rf_model.fit(X_train_vec, y_train)\n",
        "\n",
        "y_pred_valid = rf_model.predict(X_valid_vec)\n",
        "\n",
        "rmse = np.sqrt(mean_squared_error(y_valid, y_pred_valid))\n",
        "rmse\n"
      ],
      "metadata": {
        "id": "LwaZ2fl3P5Y2",
        "outputId": "cdf5ccdf-83f6-4b35-b995-f74a6f4357ff",
        "colab": {
          "base_uri": "https://localhost:8080/"
        }
      },
      "execution_count": 68,
      "outputs": [
        {
          "output_type": "execute_result",
          "data": {
            "text/plain": [
              "43.157758977963624"
            ]
          },
          "metadata": {},
          "execution_count": 68
        }
      ]
    },
    {
      "cell_type": "markdown",
      "source": [
        "Вопрос 3"
      ],
      "metadata": {
        "id": "_E1YneiCP8xB"
      }
    },
    {
      "cell_type": "code",
      "source": [
        "\n",
        "n_estimators_range = range(10, 201, 10)\n",
        "rmse_scores = []\n",
        "\n",
        "for n_estimators in n_estimators_range:\n",
        "    rf_model = RandomForestRegressor(n_estimators=n_estimators, random_state=1, n_jobs=-1)\n",
        "    rf_model.fit(X_train_vec, y_train)\n",
        "    y_pred_valid = rf_model.predict(X_valid_vec)\n",
        "    rmse = np.sqrt(mean_squared_error(y_valid, y_pred_valid))\n",
        "    rmse_scores.append(rmse)\n",
        "\n",
        "best_n_estimators = n_estimators_range[np.argmin(rmse_scores)]\n",
        "best_n_estimators\n"
      ],
      "metadata": {
        "id": "NDhE_enTP9oT",
        "outputId": "bce85910-35e6-49e7-cc48-ca7f77aef551",
        "colab": {
          "base_uri": "https://localhost:8080/"
        }
      },
      "execution_count": 69,
      "outputs": [
        {
          "output_type": "execute_result",
          "data": {
            "text/plain": [
              "180"
            ]
          },
          "metadata": {},
          "execution_count": 69
        }
      ]
    },
    {
      "cell_type": "markdown",
      "source": [
        "Вопрос 4"
      ],
      "metadata": {
        "id": "IWjk8Od7QX4T"
      }
    },
    {
      "cell_type": "code",
      "source": [
        "\n",
        "max_depth_range = [10, 15, 20, 25]\n",
        "rmse_scores_depth = {}\n",
        "\n",
        "for max_depth in max_depth_range:\n",
        "    rmse_scores_n_estimators = []\n",
        "    for n_estimators in n_estimators_range:\n",
        "        rf_model = RandomForestRegressor(n_estimators=n_estimators, max_depth=max_depth, random_state=1, n_jobs=-1)\n",
        "        rf_model.fit(X_train_vec, y_train)\n",
        "        y_pred_valid = rf_model.predict(X_valid_vec)\n",
        "        rmse = np.sqrt(mean_squared_error(y_valid, y_pred_valid))\n",
        "        rmse_scores_n_estimators.append(rmse)\n",
        "    rmse_scores_depth[max_depth] = np.mean(rmse_scores_n_estimators)\n",
        "\n",
        "\n",
        "best_max_depth = min(rmse_scores_depth, key=rmse_scores_depth.get)\n",
        "best_max_depth\n"
      ],
      "metadata": {
        "id": "QTsBx74yQYuc",
        "outputId": "cee582f4-e8a0-4b0b-99bd-43d0ca287832",
        "colab": {
          "base_uri": "https://localhost:8080/"
        }
      },
      "execution_count": 70,
      "outputs": [
        {
          "output_type": "execute_result",
          "data": {
            "text/plain": [
              "10"
            ]
          },
          "metadata": {},
          "execution_count": 70
        }
      ]
    },
    {
      "cell_type": "markdown",
      "source": [
        "Вопрос 5"
      ],
      "metadata": {
        "id": "VOsNtOa4QbAf"
      }
    },
    {
      "cell_type": "code",
      "source": [
        "\n",
        "rf_model = RandomForestRegressor(n_estimators=10, max_depth=20, random_state=1, n_jobs=-1)\n",
        "rf_model.fit(X_train_vec, y_train)\n",
        "\n",
        "\n",
        "importances = rf_model.feature_importances_\n",
        "\n",
        "\n",
        "most_important_feature_index = np.argmax(importances)\n",
        "most_important_feature = dv.get_feature_names_out()[most_important_feature_index]\n",
        "most_important_feature\n"
      ],
      "metadata": {
        "id": "izv7u8uYQbuF"
      },
      "execution_count": null,
      "outputs": []
    },
    {
      "cell_type": "markdown",
      "source": [
        "Вопрос 6"
      ],
      "metadata": {
        "id": "sIj-88IrQebl"
      }
    },
    {
      "cell_type": "code",
      "source": [
        "import xgboost as xgb\n",
        "from sklearn.metrics import mean_squared_error\n",
        "\n",
        "\n",
        "train_dmatrix = xgb.DMatrix(X_train_vec, label=y_train)\n",
        "valid_dmatrix = xgb.DMatrix(X_valid_vec, label=y_valid)\n",
        "\n",
        "watchlist = [(train_dmatrix, 'train'), (valid_dmatrix, 'valid')]\n",
        "\n",
        "params = {\n",
        "    'eta': 0.3,\n",
        "    'max_depth': 6,\n",
        "    'min_child_weight': 1,\n",
        "    'objective': 'reg:squarederror',\n",
        "    'nthread': 8,\n",
        "    'seed': 1,\n",
        "    'verbosity': 1\n",
        "}\n",
        "\n",
        "xgb_model = xgb.train(params, train_dmatrix, num_boost_round=100, evals=watchlist, early_stopping_rounds=10)\n",
        "\n",
        "y_pred_valid_xgb = xgb_model.predict(valid_dmatrix)\n",
        "rmse_xgb = np.sqrt(mean_squared_error(y_valid, y_pred_valid_xgb))\n",
        "rmse_xgb\n",
        "\n",
        "params['eta'] = 0.1\n",
        "xgb_model_eta_01 = xgb.train(params, train_dmatrix, num_boost_round=100, evals=watchlist, early_stopping_rounds=10)\n",
        "\n",
        "y_pred_valid_xgb_01 = xgb_model_eta_01.predict(valid_dmatrix)\n",
        "rmse_xgb_01 = np.sqrt(mean_squared_error(y_valid, y_pred_valid_xgb_01))\n",
        "rmse_xgb_01\n"
      ],
      "metadata": {
        "id": "qK-W9DYiQfS8",
        "outputId": "42d0a0b2-c9c8-485f-8833-8b263eda1d2c",
        "colab": {
          "base_uri": "https://localhost:8080/"
        }
      },
      "execution_count": 71,
      "outputs": [
        {
          "output_type": "stream",
          "name": "stdout",
          "text": [
            "[0]\ttrain-rmse:42.84835\tvalid-rmse:44.52338\n",
            "[1]\ttrain-rmse:39.96423\tvalid-rmse:42.83406\n",
            "[2]\ttrain-rmse:37.91231\tvalid-rmse:41.62607\n",
            "[3]\ttrain-rmse:36.51126\tvalid-rmse:41.25491\n",
            "[4]\ttrain-rmse:35.52212\tvalid-rmse:40.84075\n",
            "[5]\ttrain-rmse:34.77126\tvalid-rmse:40.71677\n",
            "[6]\ttrain-rmse:34.03898\tvalid-rmse:40.72669\n",
            "[7]\ttrain-rmse:33.62820\tvalid-rmse:40.68822\n",
            "[8]\ttrain-rmse:32.94729\tvalid-rmse:40.81273\n",
            "[9]\ttrain-rmse:32.27703\tvalid-rmse:40.84939\n",
            "[10]\ttrain-rmse:31.73818\tvalid-rmse:40.83759\n",
            "[11]\ttrain-rmse:31.31360\tvalid-rmse:40.80575\n",
            "[12]\ttrain-rmse:30.72949\tvalid-rmse:40.84238\n",
            "[13]\ttrain-rmse:30.11486\tvalid-rmse:40.96020\n",
            "[14]\ttrain-rmse:29.43538\tvalid-rmse:40.98775\n",
            "[15]\ttrain-rmse:29.23018\tvalid-rmse:41.04798\n",
            "[16]\ttrain-rmse:28.64113\tvalid-rmse:41.08375\n",
            "[0]\ttrain-rmse:45.64414\tvalid-rmse:46.63724\n",
            "[1]\ttrain-rmse:44.26862\tvalid-rmse:45.58724\n",
            "[2]\ttrain-rmse:43.08569\tvalid-rmse:44.76209\n",
            "[3]\ttrain-rmse:42.05227\tvalid-rmse:44.02498\n",
            "[4]\ttrain-rmse:41.10533\tvalid-rmse:43.40640\n",
            "[5]\ttrain-rmse:40.28309\tvalid-rmse:42.92195\n",
            "[6]\ttrain-rmse:39.54133\tvalid-rmse:42.49211\n",
            "[7]\ttrain-rmse:38.87686\tvalid-rmse:42.15780\n",
            "[8]\ttrain-rmse:38.27674\tvalid-rmse:41.84104\n",
            "[9]\ttrain-rmse:37.74058\tvalid-rmse:41.58026\n",
            "[10]\ttrain-rmse:37.26338\tvalid-rmse:41.35829\n",
            "[11]\ttrain-rmse:36.82810\tvalid-rmse:41.19143\n",
            "[12]\ttrain-rmse:36.41091\tvalid-rmse:41.02571\n",
            "[13]\ttrain-rmse:36.01019\tvalid-rmse:40.90308\n",
            "[14]\ttrain-rmse:35.67454\tvalid-rmse:40.79701\n",
            "[15]\ttrain-rmse:35.33492\tvalid-rmse:40.66274\n",
            "[16]\ttrain-rmse:35.01425\tvalid-rmse:40.60840\n",
            "[17]\ttrain-rmse:34.72687\tvalid-rmse:40.55942\n",
            "[18]\ttrain-rmse:34.40588\tvalid-rmse:40.46321\n",
            "[19]\ttrain-rmse:34.16207\tvalid-rmse:40.42760\n",
            "[20]\ttrain-rmse:33.94837\tvalid-rmse:40.40272\n",
            "[21]\ttrain-rmse:33.67900\tvalid-rmse:40.33790\n",
            "[22]\ttrain-rmse:33.44365\tvalid-rmse:40.25893\n",
            "[23]\ttrain-rmse:33.15283\tvalid-rmse:40.23702\n",
            "[24]\ttrain-rmse:32.93544\tvalid-rmse:40.23146\n",
            "[25]\ttrain-rmse:32.76647\tvalid-rmse:40.16645\n",
            "[26]\ttrain-rmse:32.63384\tvalid-rmse:40.17172\n",
            "[27]\ttrain-rmse:32.48413\tvalid-rmse:40.20266\n",
            "[28]\ttrain-rmse:32.34090\tvalid-rmse:40.20407\n",
            "[29]\ttrain-rmse:32.10350\tvalid-rmse:40.20207\n",
            "[30]\ttrain-rmse:31.97085\tvalid-rmse:40.20269\n",
            "[31]\ttrain-rmse:31.73414\tvalid-rmse:40.22897\n",
            "[32]\ttrain-rmse:31.54401\tvalid-rmse:40.19830\n",
            "[33]\ttrain-rmse:31.36899\tvalid-rmse:40.20204\n",
            "[34]\ttrain-rmse:31.24775\tvalid-rmse:40.23194\n",
            "[35]\ttrain-rmse:31.15313\tvalid-rmse:40.25736\n"
          ]
        },
        {
          "output_type": "execute_result",
          "data": {
            "text/plain": [
              "40.25735690723187"
            ]
          },
          "metadata": {},
          "execution_count": 71
        }
      ]
    }
  ],
  "metadata": {
    "colab": {
      "name": "Добро пожаловать в Colaboratory!",
      "provenance": []
    },
    "kernelspec": {
      "display_name": "Python 3",
      "name": "python3"
    }
  },
  "nbformat": 4,
  "nbformat_minor": 0
}